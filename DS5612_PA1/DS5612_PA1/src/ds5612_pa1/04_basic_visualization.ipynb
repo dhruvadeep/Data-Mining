{
 "cells": [
  {
   "cell_type": "markdown",
   "metadata": {},
   "source": [
    "\n",
    "# Visualization (20 points)\n",
    "\n",
    "Visualization is a key component of exploration. You will generate some charts to get some intuition about the data. You can choose to use either Matplotlib or Seaborn for plotting. The default figures generated from Matplotlib might look a bit ugly. So you might want to try Seaborn to get better figures. The defaults in Seaborn are much saner and sometimes makes your life lot easier. Seaborn has number of styles - so feel free to experiment with them and choose the one you like. \n"
   ]
  },
  {
   "cell_type": "code",
   "execution_count": 1,
   "metadata": {},
   "outputs": [],
   "source": [
    "# These two lines ensure that all modules are reloaded every time a Python cell is executed.\n",
    "# This allows us to modify some other Python file and immediately see the results\n",
    "# instead of restarting the kernel and running every cell. \n",
    "%load_ext autoreload\n",
    "%autoreload 2\n",
    "\n",
    "from ds5612_pa1 import t3_tasks\n",
    "\n",
    "\n",
    "# Please read the code of get_fec_dataset to understand what it is doing\n",
    "fec_df = t3_tasks.get_fec_dataset()\n"
   ]
  },
  {
   "cell_type": "code",
   "execution_count": 2,
   "metadata": {},
   "outputs": [],
   "source": [
    "%matplotlib inline\n",
    "\n",
    "#For visualization. Matplotlib for basic viz and seaborn for more stylish figures + statistical figures not in MPL.\n",
    "\n",
    "\n",
    "import matplotlib.pyplot as plt\n",
    "import seaborn as sns\n"
   ]
  },
  {
   "cell_type": "markdown",
   "metadata": {},
   "source": [
    "## Task 4.1: Bar Charts (5 points)\n",
    "\n",
    "Draw a \"horizontal\" bar chart that lists the top-10 states based on the TOTAL contribution they made to both candidates. For each state, draw two lines - one in blue for Obama and one in red for Romney. Display the proportion of the total contribution that came from the state. For eg, if Obama made 1 billion and TX gave 100 million of it, the proportion is 10%. \n",
    "\n",
    "Remember to set the titles for both axes and also the legend.\n",
    "\n",
    "Your plot should look something like or better than this:\n",
    "\n",
    "![T4.1](resources/t41.png) "
   ]
  },
  {
   "cell_type": "markdown",
   "metadata": {},
   "source": [
    "## Task 4.2: Line Charts (5 points)\n",
    "\n",
    "Draw a line chart showing the CUMULATIVE campaign contribution of Obama and Romney varied every quarter. In other words, if Obama made X, Y, Z in first, second and third quarters of 2012, then plot X for first quarter, X+Y for second quarter and X+Y+Z for third quarter.\n",
    "\n",
    "Use blue for Obama and red for Romney. This is a bit tricky because, you have to convert contribution date to quarter. The simplest solution is to create a new pandas column storing the quarter. \n",
    "\n",
    "Hint: The contb_receipt_dt field is already parsed as pandas datetime (see get_fec_dataset in t3_tasks.py). So find if there is a way to get the quarter from that date type. \n",
    "\n",
    "Remember to set the titles for both axes and also the legend.\n",
    "\n",
    "Your plot should look something like or better than this:\n",
    "\n",
    "![T4.2](resources/t42.png) \n"
   ]
  },
  {
   "cell_type": "markdown",
   "metadata": {},
   "source": [
    "## Task 4.3: Histograms (5 points)\n",
    "\n",
    "Let us do an side-by-side analysis of histogram/distribution of the contribution amount. Most citizens provide a small contribution while the affluent class might make a larger contribution. Studying the histogram will show which candidate gets most money from regular citizens.\n",
    "\n",
    "We will set an arbitrary threshold of 2000. So we will remove all contributions > 2000. This should give a saner visualization without doing some tricks to handle outliers. \n",
    "\n",
    "Generate a side-by-side histogram for Obama and Romney. Use 50 bins. \n",
    "\n",
    "Use blue for Obama and red for Romney. This is a bit tricky because, you have to convert contribution date to quarter. The simplest solution is to create a new pandas column storing the quarter. \n",
    "\n",
    "\n",
    "Remember to set the titles for both axes and also the legend.\n",
    "\n",
    "Your plot should look something like or better than this:\n",
    "\n",
    "![T4.3](resources/t43.png)"
   ]
  },
  {
   "cell_type": "markdown",
   "metadata": {},
   "source": [
    "## Task 4.4: Scatter Plots (5 points)\n",
    "\n",
    "There is some kind of political polarization in US where some states favor democrats while others favor republicans. Let us do a simple chart to visualize this.\n",
    "\n",
    "First, create a pandas groupby object where you compute the total contributions for Obama and Romney for each state. So after this, you will have a data frame with three columns cand_nm, contbr_st, and contb_receipt_amt where contb_receipt_amt gives the total amount of contributions for that state and that candidate. \n",
    "\n",
    "Next, we will visualize this data using scatter plot. As before, we will use blue for Obama and red for Romney. \n",
    "\n",
    "We will do one final post-processing. There are lot of states in US. So if you blindly plot the scatter plot, the names of the states will not be legible. So we do a simple trick where we \"rotate\" the name of the state by 90 degrees. \n",
    "\n",
    "\n",
    "Remember to set the titles for both axes and also the legend.\n",
    "\n",
    "Your plot should look something like or better than this:\n",
    "\n",
    "![T4.4](resources/t44.png)"
   ]
  }
 ],
 "metadata": {
  "kernelspec": {
   "display_name": ".venv",
   "language": "python",
   "name": "python3"
  },
  "language_info": {
   "codemirror_mode": {
    "name": "ipython",
    "version": 3
   },
   "file_extension": ".py",
   "mimetype": "text/x-python",
   "name": "python",
   "nbconvert_exporter": "python",
   "pygments_lexer": "ipython3",
   "version": "3.12.4"
  }
 },
 "nbformat": 4,
 "nbformat_minor": 2
}
