{
 "cells": [
  {
   "cell_type": "code",
   "execution_count": 1,
   "metadata": {},
   "outputs": [],
   "source": [
    "import numpy as np\n",
    "import pandas as pd"
   ]
  },
  {
   "cell_type": "code",
   "execution_count": 2,
   "metadata": {},
   "outputs": [],
   "source": [
    "fec_all = pd.read_csv(\"resources/fec_2012_contribution_subset.csv\", low_memory=False)\n",
    "    # The date is in the format 20-JUN-11\n",
    "fec_all[\"contb_receipt_dt\"] = pd.to_datetime(fec_all[\"contb_receipt_dt\"], format=\"%d-%b-%y\")\n",
    "\n",
    "    # ignore the refunds\n",
    "    # Get the subset of dataset where contribution amount is positive\n",
    "fec_all = fec_all[fec_all.contb_receipt_amt > 0]\n",
    "\n",
    "    # fec_all contains details about all presidential candidates.\n",
    "    # fec contains the details about contributions to Barack Obama and Mitt Romney only\n",
    "    # for the rest of the tasks, unless explicitly specified, work on the fec data frame.\n",
    "fec = fec_all[fec_all.cand_nm.isin([\"Obama, Barack\", \"Romney, Mitt\"])]\n",
    "\n",
    "    # Make the original dataset as None so that it will be garbage collected\n",
    "fec_all = None\n"
   ]
  },
  {
   "cell_type": "code",
   "execution_count": 3,
   "metadata": {},
   "outputs": [],
   "source": [
    "temp = fec[\n",
    "    (fec[\"cand_nm\"] == \"Obama, Barack\") &\n",
    "    (fec[\"contbr_employer\"] == \"GOOGLE\") &\n",
    "    (fec[\"contbr_occupation\"].str.contains(\"ENGINEER\"))\n",
    "]"
   ]
  },
  {
   "cell_type": "code",
   "execution_count": 4,
   "metadata": {},
   "outputs": [
    {
     "data": {
      "text/plain": [
       "np.float64(41208.4)"
      ]
     },
     "execution_count": 4,
     "metadata": {},
     "output_type": "execute_result"
    }
   ],
   "source": [
    "temp[\"contb_receipt_amt\"].sum()"
   ]
  },
  {
   "cell_type": "code",
   "execution_count": 5,
   "metadata": {},
   "outputs": [],
   "source": [
    "fec_df = fec"
   ]
  },
  {
   "cell_type": "code",
   "execution_count": 6,
   "metadata": {},
   "outputs": [
    {
     "data": {
      "text/plain": [
       "contbr_st\n",
       "AA       74\n",
       "AB        4\n",
       "AE      395\n",
       "AK     2036\n",
       "AL     3854\n",
       "      ...  \n",
       "WA    20783\n",
       "WI     8050\n",
       "WV     1330\n",
       "WY     1055\n",
       "ZZ       15\n",
       "Name: contbr_nm, Length: 64, dtype: int64"
      ]
     },
     "execution_count": 6,
     "metadata": {},
     "output_type": "execute_result"
    }
   ],
   "source": [
    "fec_df[\n",
    "    (fec_df[\"cand_nm\"] == \"Obama, Barack\") \n",
    "].groupby(by=\"contbr_st\")[\"contbr_nm\"].count()"
   ]
  },
  {
   "cell_type": "code",
   "execution_count": 7,
   "metadata": {},
   "outputs": [
    {
     "data": {
      "text/plain": [
       "[1, 10, 100, 1000, 10000, 100000, 1000000, 10000000, 100000000, 1000000000]"
      ]
     },
     "execution_count": 7,
     "metadata": {},
     "output_type": "execute_result"
    }
   ],
   "source": [
    "[10**i for i in range(10)]"
   ]
  },
  {
   "cell_type": "code",
   "execution_count": 8,
   "metadata": {},
   "outputs": [],
   "source": [
    "bins = [0] +  [10**i for i in range(9)]"
   ]
  },
  {
   "cell_type": "code",
   "execution_count": 9,
   "metadata": {},
   "outputs": [
    {
     "data": {
      "text/plain": [
       "['(0,1]',\n",
       " '(1,10]',\n",
       " '(10,100]',\n",
       " '(100,1000]',\n",
       " '(1000,10000]',\n",
       " '(10000,100000]',\n",
       " '(100000,1000000]',\n",
       " '(1000000,10000000]',\n",
       " '(10000000,100000000]']"
      ]
     },
     "execution_count": 9,
     "metadata": {},
     "output_type": "execute_result"
    }
   ],
   "source": [
    "labels = []\n",
    "for i in range(1, len(bins)):\n",
    "    ptr_1 = bins[i - 1]\n",
    "    ptr_2 = bins[i]\n",
    "    temp = f\"({ptr_1},{ptr_2}]\"\n",
    "    labels.append(temp)\n",
    "labels"
   ]
  },
  {
   "cell_type": "code",
   "execution_count": 10,
   "metadata": {},
   "outputs": [],
   "source": [
    "fec_df[\"amount_bucket\"] = pd.cut(\n",
    "    fec_df[\"contb_receipt_amt\"],\n",
    "    bins=bins,\n",
    "    labels=labels,\n",
    "    right=True\n",
    ")"
   ]
  },
  {
   "cell_type": "code",
   "execution_count": 11,
   "metadata": {},
   "outputs": [
    {
     "name": "stderr",
     "output_type": "stream",
     "text": [
      "/tmp/ipykernel_29028/2110523686.py:1: FutureWarning: The default of observed=False is deprecated and will be changed to True in a future version of pandas. Pass observed=False to retain current behavior or observed=True to adopt the future default and silence this warning.\n",
      "  fec_df.groupby(\n"
     ]
    },
    {
     "data": {
      "text/html": [
       "<div>\n",
       "<style scoped>\n",
       "    .dataframe tbody tr th:only-of-type {\n",
       "        vertical-align: middle;\n",
       "    }\n",
       "\n",
       "    .dataframe tbody tr th {\n",
       "        vertical-align: top;\n",
       "    }\n",
       "\n",
       "    .dataframe thead th {\n",
       "        text-align: right;\n",
       "    }\n",
       "</style>\n",
       "<table border=\"1\" class=\"dataframe\">\n",
       "  <thead>\n",
       "    <tr style=\"text-align: right;\">\n",
       "      <th>cand_nm</th>\n",
       "      <th>Obama, Barack</th>\n",
       "      <th>Romney, Mitt</th>\n",
       "    </tr>\n",
       "    <tr>\n",
       "      <th>amount_bucket</th>\n",
       "      <th></th>\n",
       "      <th></th>\n",
       "    </tr>\n",
       "  </thead>\n",
       "  <tbody>\n",
       "    <tr>\n",
       "      <th>(0,1]</th>\n",
       "      <td>318.24</td>\n",
       "      <td>77.00</td>\n",
       "    </tr>\n",
       "    <tr>\n",
       "      <th>(1,10]</th>\n",
       "      <td>337267.62</td>\n",
       "      <td>29819.66</td>\n",
       "    </tr>\n",
       "    <tr>\n",
       "      <th>(10,100]</th>\n",
       "      <td>20288981.41</td>\n",
       "      <td>1987783.76</td>\n",
       "    </tr>\n",
       "    <tr>\n",
       "      <th>(100,1000]</th>\n",
       "      <td>54798531.46</td>\n",
       "      <td>22363381.69</td>\n",
       "    </tr>\n",
       "    <tr>\n",
       "      <th>(1000,10000]</th>\n",
       "      <td>51753705.67</td>\n",
       "      <td>63942145.42</td>\n",
       "    </tr>\n",
       "    <tr>\n",
       "      <th>(10000,100000]</th>\n",
       "      <td>59100.00</td>\n",
       "      <td>12700.00</td>\n",
       "    </tr>\n",
       "    <tr>\n",
       "      <th>(100000,1000000]</th>\n",
       "      <td>1490683.08</td>\n",
       "      <td>0.00</td>\n",
       "    </tr>\n",
       "    <tr>\n",
       "      <th>(1000000,10000000]</th>\n",
       "      <td>7148839.76</td>\n",
       "      <td>0.00</td>\n",
       "    </tr>\n",
       "    <tr>\n",
       "      <th>(10000000,100000000]</th>\n",
       "      <td>0.00</td>\n",
       "      <td>0.00</td>\n",
       "    </tr>\n",
       "  </tbody>\n",
       "</table>\n",
       "</div>"
      ],
      "text/plain": [
       "cand_nm               Obama, Barack  Romney, Mitt\n",
       "amount_bucket                                    \n",
       "(0,1]                        318.24         77.00\n",
       "(1,10]                    337267.62      29819.66\n",
       "(10,100]                20288981.41    1987783.76\n",
       "(100,1000]              54798531.46   22363381.69\n",
       "(1000,10000]            51753705.67   63942145.42\n",
       "(10000,100000]             59100.00      12700.00\n",
       "(100000,1000000]         1490683.08          0.00\n",
       "(1000000,10000000]       7148839.76          0.00\n",
       "(10000000,100000000]           0.00          0.00"
      ]
     },
     "execution_count": 11,
     "metadata": {},
     "output_type": "execute_result"
    }
   ],
   "source": [
    "fec_df.groupby(\n",
    "    [\"cand_nm\", \"amount_bucket\"]\n",
    ")[\"contb_receipt_amt\"].sum().unstack(0)"
   ]
  },
  {
   "cell_type": "code",
   "execution_count": 12,
   "metadata": {},
   "outputs": [],
   "source": [
    "per_state_basis = fec.groupby(by = \"contbr_st\")[\"contb_receipt_amt\"].sum().sort_values(ascending=False).head(10)"
   ]
  },
  {
   "cell_type": "code",
   "execution_count": 13,
   "metadata": {},
   "outputs": [],
   "source": [
    "states = per_state_basis.index"
   ]
  },
  {
   "cell_type": "code",
   "execution_count": 14,
   "metadata": {},
   "outputs": [],
   "source": [
    "contributions = []\n",
    "for i in states:\n",
    "    pass"
   ]
  },
  {
   "cell_type": "code",
   "execution_count": 15,
   "metadata": {},
   "outputs": [],
   "source": [
    "(Obama, Romney) = fec[\n",
    "    (fec[\"contbr_st\"] == \"CA\") &\n",
    "    (fec[\"cand_nm\"].isin([\"Obama, Barack\", \"Romney, Mitt\"]))\n",
    "].groupby(by=\"cand_nm\")[\"contb_receipt_amt\"].sum()"
   ]
  },
  {
   "cell_type": "code",
   "execution_count": 16,
   "metadata": {},
   "outputs": [
    {
     "data": {
      "text/plain": [
       "Timestamp('2011-04-04 00:00:00')"
      ]
     },
     "execution_count": 16,
     "metadata": {},
     "output_type": "execute_result"
    }
   ],
   "source": [
    "fec[\"contb_receipt_dt\"].min()\n",
    " \n"
   ]
  },
  {
   "cell_type": "code",
   "execution_count": 17,
   "metadata": {},
   "outputs": [
    {
     "name": "stderr",
     "output_type": "stream",
     "text": [
      "/tmp/ipykernel_29028/1489337600.py:1: FutureWarning: Series.__getitem__ treating keys as positions is deprecated. In a future version, integer keys will always be treated as labels (consistent with DataFrame behavior). To access a value by position, use `ser.iloc[pos]`\n",
      "  Obama / fec[\n",
      "/tmp/ipykernel_29028/1489337600.py:3: FutureWarning: Series.__getitem__ treating keys as positions is deprecated. In a future version, integer keys will always be treated as labels (consistent with DataFrame behavior). To access a value by position, use `ser.iloc[pos]`\n",
      "  ].groupby(by=\"cand_nm\")[\"contb_receipt_amt\"].sum()[1], Romney / per_state_basis[0]\n"
     ]
    },
    {
     "data": {
      "text/plain": [
       "(np.float64(0.2697089428996779), np.float64(0.3205019000513482))"
      ]
     },
     "execution_count": 17,
     "metadata": {},
     "output_type": "execute_result"
    }
   ],
   "source": [
    "Obama / fec[\n",
    "    (fec[\"cand_nm\"].isin([\"Obama, Barack\", \"Romney, Mitt\"]))\n",
    "].groupby(by=\"cand_nm\")[\"contb_receipt_amt\"].sum()[1], Romney / per_state_basis[0]\n"
   ]
  },
  {
   "cell_type": "code",
   "execution_count": 18,
   "metadata": {},
   "outputs": [
    {
     "name": "stderr",
     "output_type": "stream",
     "text": [
      "/tmp/ipykernel_29028/1853166716.py:1: FutureWarning: Series.__getitem__ treating keys as positions is deprecated. In a future version, integer keys will always be treated as labels (consistent with DataFrame behavior). To access a value by position, use `ser.iloc[pos]`\n",
      "  per_state_basis[0]\n"
     ]
    },
    {
     "data": {
      "text/plain": [
       "np.float64(35062620.84)"
      ]
     },
     "execution_count": 18,
     "metadata": {},
     "output_type": "execute_result"
    }
   ],
   "source": [
    "per_state_basis[0]\n"
   ]
  },
  {
   "cell_type": "code",
   "execution_count": 19,
   "metadata": {},
   "outputs": [
    {
     "name": "stderr",
     "output_type": "stream",
     "text": [
      "/tmp/ipykernel_29028/1179898766.py:1: FutureWarning: Series.__getitem__ treating keys as positions is deprecated. In a future version, integer keys will always be treated as labels (consistent with DataFrame behavior). To access a value by position, use `ser.iloc[pos]`\n",
      "  fec[\n"
     ]
    },
    {
     "data": {
      "text/plain": [
       "np.float64(88335907.53)"
      ]
     },
     "execution_count": 19,
     "metadata": {},
     "output_type": "execute_result"
    }
   ],
   "source": [
    "fec[\n",
    "    (fec[\"cand_nm\"].isin([\"Obama, Barack\", \"Romney, Mitt\"]))\n",
    "].groupby(by=\"cand_nm\")[\"contb_receipt_amt\"].sum()[1]"
   ]
  },
  {
   "cell_type": "code",
   "execution_count": null,
   "metadata": {},
   "outputs": [],
   "source": []
  },
  {
   "cell_type": "code",
   "execution_count": null,
   "metadata": {},
   "outputs": [],
   "source": []
  },
  {
   "cell_type": "code",
   "execution_count": 20,
   "metadata": {},
   "outputs": [],
   "source": [
    "start_date = fec[\"contb_receipt_dt\"].min()\n",
    "start_date = np.datetime64(str(start_date.year) + \"-01-01\")"
   ]
  },
  {
   "cell_type": "code",
   "execution_count": 21,
   "metadata": {},
   "outputs": [],
   "source": [
    "final_end_date = fec[\"contb_receipt_dt\"].max()"
   ]
  },
  {
   "cell_type": "code",
   "execution_count": 22,
   "metadata": {},
   "outputs": [],
   "source": [
    "quaterly_romney = []\n",
    "quarterly_obama = []\n",
    "while final_end_date >= start_date:\n",
    "    total = fec[\n",
    "        (fec[\"contb_receipt_dt\"] >= start_date) &\n",
    "        (fec[\"contb_receipt_dt\"] <= (start_date + pd.DateOffset(months=3))) &\n",
    "        (fec[\"cand_nm\"] == \"Obama, Barack\")\n",
    "    ][\"contb_receipt_amt\"].sum()\n",
    "    temp = (start_date, total)\n",
    "    quarterly_obama.append(temp)\n",
    "\n",
    "    # update the time\n",
    "    start_date = start_date + pd.DateOffset(months=3)\n",
    "    pass"
   ]
  },
  {
   "cell_type": "code",
   "execution_count": 23,
   "metadata": {},
   "outputs": [],
   "source": [
    "for i in quaterly_romney:\n",
    "    print(i)"
   ]
  },
  {
   "cell_type": "code",
   "execution_count": 24,
   "metadata": {},
   "outputs": [],
   "source": [
    "def get_quater_from_df(fec: pd.DataFrame, candidate: str) -> list:\n",
    "    start_date = fec[\"contb_receipt_dt\"].min()\n",
    "    start_date = np.datetime64(str(start_date.year) + \"-01-01\")\n",
    "\n",
    "    # Final Date\n",
    "    final_end_date = fec[\"contb_receipt_dt\"].max()\n",
    "\n",
    "    # Store\n",
    "    total = 0\n",
    "    quaterly = []\n",
    "    while final_end_date >= start_date:\n",
    "        total = total + fec[\n",
    "            (fec[\"contb_receipt_dt\"] >= start_date) &\n",
    "            (fec[\"contb_receipt_dt\"] <= (start_date + pd.DateOffset(months=3))) &\n",
    "            (fec[\"cand_nm\"] == candidate)\n",
    "        ][\"contb_receipt_amt\"].sum() / 1e8\n",
    "\n",
    "        temp = (start_date, total)\n",
    "        start_date = start_date + pd.DateOffset(months=3)\n",
    "        if total == 0:\n",
    "            continue\n",
    "        quaterly.append(temp)\n",
    "\n",
    "        # update the time\n",
    "    return quaterly"
   ]
  },
  {
   "cell_type": "code",
   "execution_count": 25,
   "metadata": {},
   "outputs": [
    {
     "name": "stdout",
     "output_type": "stream",
     "text": [
      "[(Timestamp('2011-04-01 00:00:00'), np.float64(0.2715163846)), (Timestamp('2011-07-01 00:00:00'), np.float64(0.5084971644)), (Timestamp('2011-10-01 00:00:00'), np.float64(0.7563481341)), (Timestamp('2012-01-01 00:00:00'), np.float64(1.2066998979)), (Timestamp('2012-04-01 00:00:00'), np.float64(1.3648097009000002))]\n",
      "\n",
      "\n",
      "[(Timestamp('2011-04-01 00:00:00'), np.float64(0.17338137990000002)), (Timestamp('2011-07-01 00:00:00'), np.float64(0.29673599040000004)), (Timestamp('2011-10-01 00:00:00'), np.float64(0.5175461368000001)), (Timestamp('2012-01-01 00:00:00'), np.float64(0.7875272824)), (Timestamp('2012-04-01 00:00:00'), np.float64(0.8846717213))]\n"
     ]
    }
   ],
   "source": [
    "Obama_quarters = get_quater_from_df(fec, \"Obama, Barack\")\n",
    "Romney_quarters = get_quater_from_df(fec,\"Romney, Mitt\" )\n",
    "\n",
    "print(Obama_quarters)\n",
    "print(\"\\n\")\n",
    "print(Romney_quarters)"
   ]
  },
  {
   "cell_type": "code",
   "execution_count": 26,
   "metadata": {},
   "outputs": [
    {
     "data": {
      "text/html": [
       "<div>\n",
       "<style scoped>\n",
       "    .dataframe tbody tr th:only-of-type {\n",
       "        vertical-align: middle;\n",
       "    }\n",
       "\n",
       "    .dataframe tbody tr th {\n",
       "        vertical-align: top;\n",
       "    }\n",
       "\n",
       "    .dataframe thead th {\n",
       "        text-align: right;\n",
       "    }\n",
       "</style>\n",
       "<table border=\"1\" class=\"dataframe\">\n",
       "  <thead>\n",
       "    <tr style=\"text-align: right;\">\n",
       "      <th></th>\n",
       "      <th>cmte_id</th>\n",
       "      <th>cand_id</th>\n",
       "      <th>cand_nm</th>\n",
       "      <th>contbr_nm</th>\n",
       "      <th>contbr_city</th>\n",
       "      <th>contbr_st</th>\n",
       "      <th>contbr_zip</th>\n",
       "      <th>contbr_employer</th>\n",
       "      <th>contbr_occupation</th>\n",
       "      <th>contb_receipt_amt</th>\n",
       "      <th>contb_receipt_dt</th>\n",
       "      <th>receipt_desc</th>\n",
       "      <th>memo_cd</th>\n",
       "      <th>memo_text</th>\n",
       "      <th>form_tp</th>\n",
       "      <th>file_num</th>\n",
       "      <th>amount_bucket</th>\n",
       "    </tr>\n",
       "  </thead>\n",
       "  <tbody>\n",
       "    <tr>\n",
       "      <th>411</th>\n",
       "      <td>C00431171</td>\n",
       "      <td>P80003353</td>\n",
       "      <td>Romney, Mitt</td>\n",
       "      <td>ELDERBAUM, WILLIAM</td>\n",
       "      <td>DPO</td>\n",
       "      <td>AA</td>\n",
       "      <td>340230183</td>\n",
       "      <td>US GOVERNMENT</td>\n",
       "      <td>FOREIGN SERVICE OFFICER</td>\n",
       "      <td>25.0</td>\n",
       "      <td>2012-02-01</td>\n",
       "      <td>NaN</td>\n",
       "      <td>NaN</td>\n",
       "      <td>NaN</td>\n",
       "      <td>SA17A</td>\n",
       "      <td>780124</td>\n",
       "      <td>(10,100]</td>\n",
       "    </tr>\n",
       "    <tr>\n",
       "      <th>412</th>\n",
       "      <td>C00431171</td>\n",
       "      <td>P80003353</td>\n",
       "      <td>Romney, Mitt</td>\n",
       "      <td>ELDERBAUM, WILLIAM</td>\n",
       "      <td>DPO</td>\n",
       "      <td>AA</td>\n",
       "      <td>340230183</td>\n",
       "      <td>US GOVERNMENT</td>\n",
       "      <td>FOREIGN SERVICE OFFICER</td>\n",
       "      <td>110.0</td>\n",
       "      <td>2012-02-01</td>\n",
       "      <td>NaN</td>\n",
       "      <td>NaN</td>\n",
       "      <td>NaN</td>\n",
       "      <td>SA17A</td>\n",
       "      <td>780124</td>\n",
       "      <td>(100,1000]</td>\n",
       "    </tr>\n",
       "    <tr>\n",
       "      <th>413</th>\n",
       "      <td>C00431171</td>\n",
       "      <td>P80003353</td>\n",
       "      <td>Romney, Mitt</td>\n",
       "      <td>CARLSEN, RICHARD</td>\n",
       "      <td>APO</td>\n",
       "      <td>AE</td>\n",
       "      <td>091280020</td>\n",
       "      <td>DEFENSE INTELLIGENCE AGENCY</td>\n",
       "      <td>INTELLIGENCE ANALYST</td>\n",
       "      <td>250.0</td>\n",
       "      <td>2012-04-13</td>\n",
       "      <td>NaN</td>\n",
       "      <td>NaN</td>\n",
       "      <td>NaN</td>\n",
       "      <td>SA17A</td>\n",
       "      <td>785689</td>\n",
       "      <td>(100,1000]</td>\n",
       "    </tr>\n",
       "    <tr>\n",
       "      <th>414</th>\n",
       "      <td>C00431171</td>\n",
       "      <td>P80003353</td>\n",
       "      <td>Romney, Mitt</td>\n",
       "      <td>DELUCA, PIERRE</td>\n",
       "      <td>APO</td>\n",
       "      <td>AE</td>\n",
       "      <td>091280005</td>\n",
       "      <td>CISCO</td>\n",
       "      <td>ENGINEER</td>\n",
       "      <td>30.0</td>\n",
       "      <td>2011-08-21</td>\n",
       "      <td>NaN</td>\n",
       "      <td>NaN</td>\n",
       "      <td>NaN</td>\n",
       "      <td>SA17A</td>\n",
       "      <td>760261</td>\n",
       "      <td>(10,100]</td>\n",
       "    </tr>\n",
       "    <tr>\n",
       "      <th>415</th>\n",
       "      <td>C00431171</td>\n",
       "      <td>P80003353</td>\n",
       "      <td>Romney, Mitt</td>\n",
       "      <td>SARGENT, MICHAEL</td>\n",
       "      <td>APO</td>\n",
       "      <td>AE</td>\n",
       "      <td>090120092</td>\n",
       "      <td>RAYTHEON TECHNICAL SERVICES CORP</td>\n",
       "      <td>COMPUTER SYSTEMS ENGINEER</td>\n",
       "      <td>100.0</td>\n",
       "      <td>2012-03-07</td>\n",
       "      <td>NaN</td>\n",
       "      <td>NaN</td>\n",
       "      <td>NaN</td>\n",
       "      <td>SA17A</td>\n",
       "      <td>780128</td>\n",
       "      <td>(10,100]</td>\n",
       "    </tr>\n",
       "    <tr>\n",
       "      <th>...</th>\n",
       "      <td>...</td>\n",
       "      <td>...</td>\n",
       "      <td>...</td>\n",
       "      <td>...</td>\n",
       "      <td>...</td>\n",
       "      <td>...</td>\n",
       "      <td>...</td>\n",
       "      <td>...</td>\n",
       "      <td>...</td>\n",
       "      <td>...</td>\n",
       "      <td>...</td>\n",
       "      <td>...</td>\n",
       "      <td>...</td>\n",
       "      <td>...</td>\n",
       "      <td>...</td>\n",
       "      <td>...</td>\n",
       "      <td>...</td>\n",
       "    </tr>\n",
       "    <tr>\n",
       "      <th>701381</th>\n",
       "      <td>C00431445</td>\n",
       "      <td>P80003338</td>\n",
       "      <td>Obama, Barack</td>\n",
       "      <td>MOUNTS, ROBERT</td>\n",
       "      <td>APO</td>\n",
       "      <td>ZZ</td>\n",
       "      <td>962043077</td>\n",
       "      <td>HQ USFK (FKDC-SA)</td>\n",
       "      <td>GS-15 INTERNATIONAL RELATIONS OFFICER</td>\n",
       "      <td>25.0</td>\n",
       "      <td>2012-02-26</td>\n",
       "      <td>NaN</td>\n",
       "      <td>NaN</td>\n",
       "      <td>NaN</td>\n",
       "      <td>SA17A</td>\n",
       "      <td>787803</td>\n",
       "      <td>(10,100]</td>\n",
       "    </tr>\n",
       "    <tr>\n",
       "      <th>701382</th>\n",
       "      <td>C00431445</td>\n",
       "      <td>P80003338</td>\n",
       "      <td>Obama, Barack</td>\n",
       "      <td>TAITANO, TYRONE</td>\n",
       "      <td>HAGATNA</td>\n",
       "      <td>ZZ</td>\n",
       "      <td>969323373</td>\n",
       "      <td>NOT EMPLOYED</td>\n",
       "      <td>RETIRED</td>\n",
       "      <td>250.0</td>\n",
       "      <td>2012-01-20</td>\n",
       "      <td>NaN</td>\n",
       "      <td>NaN</td>\n",
       "      <td>NaN</td>\n",
       "      <td>SA17A</td>\n",
       "      <td>775668</td>\n",
       "      <td>(100,1000]</td>\n",
       "    </tr>\n",
       "    <tr>\n",
       "      <th>701383</th>\n",
       "      <td>C00431445</td>\n",
       "      <td>P80003338</td>\n",
       "      <td>Obama, Barack</td>\n",
       "      <td>TUCKER, PAMELA</td>\n",
       "      <td>APO</td>\n",
       "      <td>ZZ</td>\n",
       "      <td>963190030</td>\n",
       "      <td>DODEA</td>\n",
       "      <td>EDUCATOR</td>\n",
       "      <td>3.0</td>\n",
       "      <td>2012-01-20</td>\n",
       "      <td>NaN</td>\n",
       "      <td>NaN</td>\n",
       "      <td>NaN</td>\n",
       "      <td>SA17A</td>\n",
       "      <td>775668</td>\n",
       "      <td>(1,10]</td>\n",
       "    </tr>\n",
       "    <tr>\n",
       "      <th>701384</th>\n",
       "      <td>C00431445</td>\n",
       "      <td>P80003338</td>\n",
       "      <td>Obama, Barack</td>\n",
       "      <td>MOUNTS, ROBERT</td>\n",
       "      <td>APO</td>\n",
       "      <td>ZZ</td>\n",
       "      <td>962043077</td>\n",
       "      <td>HQ USFK (FKDC-SA)</td>\n",
       "      <td>GS-15 INTERNATIONAL RELATIONS OFFICER</td>\n",
       "      <td>25.0</td>\n",
       "      <td>2012-04-26</td>\n",
       "      <td>NaN</td>\n",
       "      <td>NaN</td>\n",
       "      <td>NaN</td>\n",
       "      <td>SA17A</td>\n",
       "      <td>785239</td>\n",
       "      <td>(10,100]</td>\n",
       "    </tr>\n",
       "    <tr>\n",
       "      <th>701385</th>\n",
       "      <td>C00431445</td>\n",
       "      <td>P80003338</td>\n",
       "      <td>Obama, Barack</td>\n",
       "      <td>NEAL, AMBER</td>\n",
       "      <td>APO</td>\n",
       "      <td>ZZ</td>\n",
       "      <td>091022065</td>\n",
       "      <td>THE DEPARTMENT OF DEFENSE EDUCATION AC</td>\n",
       "      <td>TEACHER</td>\n",
       "      <td>135.0</td>\n",
       "      <td>2011-09-04</td>\n",
       "      <td>NaN</td>\n",
       "      <td>X</td>\n",
       "      <td>* OBAMA VICTORY FUND 2012</td>\n",
       "      <td>SA18</td>\n",
       "      <td>756218</td>\n",
       "      <td>(100,1000]</td>\n",
       "    </tr>\n",
       "  </tbody>\n",
       "</table>\n",
       "<p>694282 rows × 17 columns</p>\n",
       "</div>"
      ],
      "text/plain": [
       "          cmte_id    cand_id        cand_nm           contbr_nm contbr_city  \\\n",
       "411     C00431171  P80003353   Romney, Mitt  ELDERBAUM, WILLIAM         DPO   \n",
       "412     C00431171  P80003353   Romney, Mitt  ELDERBAUM, WILLIAM         DPO   \n",
       "413     C00431171  P80003353   Romney, Mitt    CARLSEN, RICHARD         APO   \n",
       "414     C00431171  P80003353   Romney, Mitt      DELUCA, PIERRE         APO   \n",
       "415     C00431171  P80003353   Romney, Mitt    SARGENT, MICHAEL         APO   \n",
       "...           ...        ...            ...                 ...         ...   \n",
       "701381  C00431445  P80003338  Obama, Barack      MOUNTS, ROBERT         APO   \n",
       "701382  C00431445  P80003338  Obama, Barack     TAITANO, TYRONE     HAGATNA   \n",
       "701383  C00431445  P80003338  Obama, Barack      TUCKER, PAMELA         APO   \n",
       "701384  C00431445  P80003338  Obama, Barack      MOUNTS, ROBERT         APO   \n",
       "701385  C00431445  P80003338  Obama, Barack         NEAL, AMBER         APO   \n",
       "\n",
       "       contbr_st contbr_zip                         contbr_employer  \\\n",
       "411           AA  340230183                           US GOVERNMENT   \n",
       "412           AA  340230183                           US GOVERNMENT   \n",
       "413           AE  091280020             DEFENSE INTELLIGENCE AGENCY   \n",
       "414           AE  091280005                                   CISCO   \n",
       "415           AE  090120092        RAYTHEON TECHNICAL SERVICES CORP   \n",
       "...          ...        ...                                     ...   \n",
       "701381        ZZ  962043077                       HQ USFK (FKDC-SA)   \n",
       "701382        ZZ  969323373                            NOT EMPLOYED   \n",
       "701383        ZZ  963190030                                   DODEA   \n",
       "701384        ZZ  962043077                       HQ USFK (FKDC-SA)   \n",
       "701385        ZZ  091022065  THE DEPARTMENT OF DEFENSE EDUCATION AC   \n",
       "\n",
       "                            contbr_occupation  contb_receipt_amt  \\\n",
       "411                   FOREIGN SERVICE OFFICER               25.0   \n",
       "412                   FOREIGN SERVICE OFFICER              110.0   \n",
       "413                      INTELLIGENCE ANALYST              250.0   \n",
       "414                                  ENGINEER               30.0   \n",
       "415                 COMPUTER SYSTEMS ENGINEER              100.0   \n",
       "...                                       ...                ...   \n",
       "701381  GS-15 INTERNATIONAL RELATIONS OFFICER               25.0   \n",
       "701382                                RETIRED              250.0   \n",
       "701383                               EDUCATOR                3.0   \n",
       "701384  GS-15 INTERNATIONAL RELATIONS OFFICER               25.0   \n",
       "701385                                TEACHER              135.0   \n",
       "\n",
       "       contb_receipt_dt receipt_desc memo_cd                  memo_text  \\\n",
       "411          2012-02-01          NaN     NaN                        NaN   \n",
       "412          2012-02-01          NaN     NaN                        NaN   \n",
       "413          2012-04-13          NaN     NaN                        NaN   \n",
       "414          2011-08-21          NaN     NaN                        NaN   \n",
       "415          2012-03-07          NaN     NaN                        NaN   \n",
       "...                 ...          ...     ...                        ...   \n",
       "701381       2012-02-26          NaN     NaN                        NaN   \n",
       "701382       2012-01-20          NaN     NaN                        NaN   \n",
       "701383       2012-01-20          NaN     NaN                        NaN   \n",
       "701384       2012-04-26          NaN     NaN                        NaN   \n",
       "701385       2011-09-04          NaN       X  * OBAMA VICTORY FUND 2012   \n",
       "\n",
       "       form_tp  file_num amount_bucket  \n",
       "411      SA17A    780124      (10,100]  \n",
       "412      SA17A    780124    (100,1000]  \n",
       "413      SA17A    785689    (100,1000]  \n",
       "414      SA17A    760261      (10,100]  \n",
       "415      SA17A    780128      (10,100]  \n",
       "...        ...       ...           ...  \n",
       "701381   SA17A    787803      (10,100]  \n",
       "701382   SA17A    775668    (100,1000]  \n",
       "701383   SA17A    775668        (1,10]  \n",
       "701384   SA17A    785239      (10,100]  \n",
       "701385    SA18    756218    (100,1000]  \n",
       "\n",
       "[694282 rows x 17 columns]"
      ]
     },
     "execution_count": 26,
     "metadata": {},
     "output_type": "execute_result"
    }
   ],
   "source": [
    "fec\n"
   ]
  },
  {
   "cell_type": "code",
   "execution_count": null,
   "metadata": {},
   "outputs": [],
   "source": []
  },
  {
   "cell_type": "code",
   "execution_count": 27,
   "metadata": {},
   "outputs": [],
   "source": [
    "import matplotlib.pyplot as plt"
   ]
  },
  {
   "cell_type": "code",
   "execution_count": null,
   "metadata": {},
   "outputs": [],
   "source": []
  },
  {
   "cell_type": "code",
   "execution_count": 31,
   "metadata": {},
   "outputs": [
    {
     "data": {
      "text/plain": [
       "(array([1.3667e+04, 9.9950e+03, 1.2927e+04, 1.8860e+03, 2.9630e+03,\n",
       "        3.9300e+02, 1.2587e+04, 8.6900e+02, 1.2300e+02, 3.4100e+02,\n",
       "        2.7000e+01, 4.7000e+01, 1.0623e+04, 4.3000e+01, 5.9000e+01,\n",
       "        1.2000e+01, 1.5000e+01, 3.3000e+01, 2.5700e+02, 2.3000e+01,\n",
       "        6.0000e+00, 1.8000e+01, 2.9000e+01, 1.6000e+01, 1.2009e+04,\n",
       "        8.0000e+00, 7.0000e+00, 1.2000e+01, 1.8000e+01, 5.9000e+01,\n",
       "        2.0000e+00, 6.3600e+02, 1.7000e+01, 2.0000e+00, 2.6000e+01,\n",
       "        1.0000e+00, 1.9000e+01, 1.3560e+03, 2.0000e+00, 8.0000e+00,\n",
       "        2.0000e+00, 6.0000e+00, 1.2000e+01, 4.5000e+01, 1.9000e+01,\n",
       "        2.0000e+00, 7.0000e+00, 1.4000e+01, 5.0000e+00, 1.3220e+03]),\n",
       " array([1.00000e+00, 4.09800e+01, 8.09600e+01, 1.20940e+02, 1.60920e+02,\n",
       "        2.00900e+02, 2.40880e+02, 2.80860e+02, 3.20840e+02, 3.60820e+02,\n",
       "        4.00800e+02, 4.40780e+02, 4.80760e+02, 5.20740e+02, 5.60720e+02,\n",
       "        6.00700e+02, 6.40680e+02, 6.80660e+02, 7.20640e+02, 7.60620e+02,\n",
       "        8.00600e+02, 8.40580e+02, 8.80560e+02, 9.20540e+02, 9.60520e+02,\n",
       "        1.00050e+03, 1.04048e+03, 1.08046e+03, 1.12044e+03, 1.16042e+03,\n",
       "        1.20040e+03, 1.24038e+03, 1.28036e+03, 1.32034e+03, 1.36032e+03,\n",
       "        1.40030e+03, 1.44028e+03, 1.48026e+03, 1.52024e+03, 1.56022e+03,\n",
       "        1.60020e+03, 1.64018e+03, 1.68016e+03, 1.72014e+03, 1.76012e+03,\n",
       "        1.80010e+03, 1.84008e+03, 1.88006e+03, 1.92004e+03, 1.96002e+03,\n",
       "        2.00000e+03]),\n",
       " <BarContainer object of 50 artists>)"
      ]
     },
     "execution_count": 31,
     "metadata": {},
     "output_type": "execute_result"
    },
    {
     "data": {
      "image/png": "[encoded data removed]",
      "text/plain": [
       "<Figure size 640x480 with 1 Axes>"
      ]
     },
     "metadata": {},
     "output_type": "display_data"
    }
   ],
   "source": [
    "contri = fec[\n",
    "    (fec[\"cand_nm\"] == \"Romney, Mitt\") &\n",
    "    (fec[\"contb_receipt_amt\"] <= 2000)\n",
    "][\"contb_receipt_amt\"]\n",
    "plt.hist(contri, color=\"red\", edgecolor=\"black\", bins=50)"
   ]
  },
  {
   "cell_type": "code",
   "execution_count": 54,
   "metadata": {},
   "outputs": [],
   "source": [
    "temp = fec[fec[\"cand_nm\"]==\"Obama, Barack\"].groupby(by=[\"contbr_st\"])[[\"contbr_st\", \"contb_receipt_amt\"]]"
   ]
  },
  {
   "cell_type": "code",
   "execution_count": 57,
   "metadata": {},
   "outputs": [
    {
     "ename": "AttributeError",
     "evalue": "'DataFrameGroupBy' object has no attribute 'groupby'",
     "output_type": "error",
     "traceback": [
      "\u001b[0;31m---------------------------------------------------------------------------\u001b[0m",
      "\u001b[0;31mAttributeError\u001b[0m                            Traceback (most recent call last)",
      "Cell \u001b[0;32mIn[57], line 1\u001b[0m\n\u001b[0;32m----> 1\u001b[0m \u001b[43mtemp\u001b[49m\u001b[38;5;241;43m.\u001b[39;49m\u001b[43mgroupby\u001b[49m()\n",
      "File \u001b[0;32m~/Desktop/Data-Mining/DS5612_PA1/DS5612_PA1/.venv/lib/python3.12/site-packages/pandas/core/groupby/groupby.py:1363\u001b[0m, in \u001b[0;36mGroupBy.__getattr__\u001b[0;34m(self, attr)\u001b[0m\n\u001b[1;32m   1360\u001b[0m \u001b[38;5;28;01mif\u001b[39;00m attr \u001b[38;5;129;01min\u001b[39;00m \u001b[38;5;28mself\u001b[39m\u001b[38;5;241m.\u001b[39mobj:\n\u001b[1;32m   1361\u001b[0m     \u001b[38;5;28;01mreturn\u001b[39;00m \u001b[38;5;28mself\u001b[39m[attr]\n\u001b[0;32m-> 1363\u001b[0m \u001b[38;5;28;01mraise\u001b[39;00m \u001b[38;5;167;01mAttributeError\u001b[39;00m(\n\u001b[1;32m   1364\u001b[0m     \u001b[38;5;124mf\u001b[39m\u001b[38;5;124m\"\u001b[39m\u001b[38;5;124m'\u001b[39m\u001b[38;5;132;01m{\u001b[39;00m\u001b[38;5;28mtype\u001b[39m(\u001b[38;5;28mself\u001b[39m)\u001b[38;5;241m.\u001b[39m\u001b[38;5;18m__name__\u001b[39m\u001b[38;5;132;01m}\u001b[39;00m\u001b[38;5;124m'\u001b[39m\u001b[38;5;124m object has no attribute \u001b[39m\u001b[38;5;124m'\u001b[39m\u001b[38;5;132;01m{\u001b[39;00mattr\u001b[38;5;132;01m}\u001b[39;00m\u001b[38;5;124m'\u001b[39m\u001b[38;5;124m\"\u001b[39m\n\u001b[1;32m   1365\u001b[0m )\n",
      "\u001b[0;31mAttributeError\u001b[0m: 'DataFrameGroupBy' object has no attribute 'groupby'"
     ]
    }
   ],
   "source": [
    "temp.groupby()"
   ]
  },
  {
   "cell_type": "code",
   "execution_count": 64,
   "metadata": {},
   "outputs": [
    {
     "data": {
      "text/plain": [
       "contbr_st\n",
       "AA    0.000013\n",
       "AE    0.000568\n",
       "AK    0.008620\n",
       "AL    0.052730\n",
       "AP    0.000166\n",
       "        ...   \n",
       "WA    0.134152\n",
       "WI    0.027032\n",
       "WV    0.012673\n",
       "WY    0.025260\n",
       "XX    0.040025\n",
       "Name: contb_receipt_amt, Length: 61, dtype: float64"
      ]
     },
     "execution_count": 64,
     "metadata": {},
     "output_type": "execute_result"
    }
   ],
   "source": [
    "(fec[fec[\"cand_nm\"] == \"Romney, Mitt\"].groupby(\"contbr_st\")['contb_receipt_amt'].sum() / 1e7)"
   ]
  }
 ],
 "metadata": {
  "kernelspec": {
   "display_name": ".venv",
   "language": "python",
   "name": "python3"
  },
  "language_info": {
   "codemirror_mode": {
    "name": "ipython",
    "version": 3
   },
   "file_extension": ".py",
   "mimetype": "text/x-python",
   "name": "python",
   "nbconvert_exporter": "python",
   "pygments_lexer": "ipython3",
   "version": "3.12.5"
  }
 },
 "nbformat": 4,
 "nbformat_minor": 2
}
